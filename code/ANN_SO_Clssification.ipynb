{
  "nbformat": 4,
  "nbformat_minor": 0,
  "metadata": {
    "colab": {
      "name": "ANN_SO_Clssification.ipynb",
      "provenance": [],
      "collapsed_sections": [],
      "include_colab_link": true
    },
    "kernelspec": {
      "name": "python3",
      "display_name": "Python 3"
    }
  },
  "cells": [
    {
      "cell_type": "markdown",
      "metadata": {
        "id": "view-in-github",
        "colab_type": "text"
      },
      "source": [
        "<a href=\"https://colab.research.google.com/github/Prajakta73/SpaceDebris-Classification/blob/main/code/ANN_SO_Clssification.ipynb\" target=\"_parent\"><img src=\"https://colab.research.google.com/assets/colab-badge.svg\" alt=\"Open In Colab\"/></a>"
      ]
    },
    {
      "cell_type": "code",
      "metadata": {
        "id": "y36x66-i6w3t",
        "colab": {
          "base_uri": "https://localhost:8080/",
          "height": 232
        },
        "outputId": "36603659-c5d0-4aac-c812-f4b1cb17213a"
      },
      "source": [
        "import tensorflow as tf\n",
        "import numpy\n",
        "from numpy import genfromtxt\n",
        "from sklearn.model_selection import train_test_split\n",
        "from sklearn.preprocessing import StandardScaler\n",
        "from sklearn.neural_network import MLPClassifier\n",
        "\n",
        "from sklearn.metrics import classification_report, confusion_matrix, accuracy_score\n",
        "\n",
        "\n",
        "\n",
        "\n",
        "class myCallback(tf.keras.callbacks.Callback):\n",
        "  def on_epoch_end(self, epoch, logs={}):\n",
        "    if(logs.get('accuracy')>0.8):\n",
        "      print(\"\\nReached 80% accuracy so cancelling training!\")\n",
        "      self.model.stop_training = True\n",
        "\n",
        "#mnist = tf.keras.datasets.fashion_mnist\n",
        "#(x_train, y_train),(x_test, y_test) = mnist.load_data()\n",
        "\n",
        "\n",
        "train_x_new = genfromtxt('/content/train_x.csv', delimiter=',', dtype = float)\n",
        "train_y_new = genfromtxt('/content/train_y.csv', delimiter=',', dtype = float)\n",
        "test_x_new = genfromtxt('/content/test_x.csv', delimiter=',', dtype = float)\n",
        "test_y_new = genfromtxt('/content/test_y.csv', delimiter=',', dtype = float)\n",
        "\n",
        "\n",
        "#train_x_new_1 = tf.image.resize(train_x_new, (28,28)).numpy\n",
        "#train_y_new_1 = tf.image.resize(train_y_new, (28,28)).numpy\n",
        "\n",
        "#x_train_small = tf.image.resize(x_train, (4,4)).numpy()\n",
        "#x_test_small = tf.image.resize(x_test, (4,4)).numpy()\n",
        "\n",
        "\n",
        "\n",
        "\n",
        "train_x_new = train_x_new / 255, \n",
        "test_x_new = test_x_new / 255\n",
        "\n",
        "\n",
        "callbacks = myCallback()\n",
        "\n",
        "model = tf.keras.models.Sequential([\n",
        "  tf.keras.layers.Flatten(input_shape=(128,128)),\n",
        "  tf.keras.layers.Dense(512, activation=tf.nn.relu),\n",
        "  tf.keras.layers.Dense(256,activation = tf.nn.relu),\n",
        "  tf.keras.layers.Dense(2, activation=tf.nn.softmax)\n",
        "])\n",
        "model.compile(optimizer=tf.optimizers.Adam(),\n",
        "              loss='sparse_categorical_crossentropy',\n",
        "              metrics=['accuracy'])\n",
        "\n",
        "model.fit(train_x_new, train_y_new, epochs=10, callbacks=[callbacks])\n",
        "\n"
      ],
      "execution_count": null,
      "outputs": [
        {
          "output_type": "stream",
          "text": [
            "Epoch 1/10\n",
            "WARNING:tensorflow:Model was constructed with shape (None, 128, 128) for input Tensor(\"flatten_input:0\", shape=(None, 128, 128), dtype=float32), but it was called on an input with incompatible shape (None, 16384).\n",
            "WARNING:tensorflow:Model was constructed with shape (None, 128, 128) for input Tensor(\"flatten_input:0\", shape=(None, 128, 128), dtype=float32), but it was called on an input with incompatible shape (None, 16384).\n",
            "42/42 [==============================] - 3s 61ms/step - loss: 8.0532 - accuracy: 0.5807\n",
            "Epoch 2/10\n",
            "42/42 [==============================] - 3s 68ms/step - loss: 0.8731 - accuracy: 0.7245\n",
            "Epoch 3/10\n",
            "42/42 [==============================] - ETA: 0s - loss: 0.3257 - accuracy: 0.8584\n",
            "Reached 80% accuracy so cancelling training!\n",
            "42/42 [==============================] - 3s 67ms/step - loss: 0.3257 - accuracy: 0.8584\n"
          ],
          "name": "stdout"
        },
        {
          "output_type": "execute_result",
          "data": {
            "text/plain": [
              "<tensorflow.python.keras.callbacks.History at 0x7f627462d588>"
            ]
          },
          "metadata": {
            "tags": []
          },
          "execution_count": 1
        }
      ]
    },
    {
      "cell_type": "code",
      "metadata": {
        "id": "ZY2jy2a0-8MN",
        "colab": {
          "base_uri": "https://localhost:8080/",
          "height": 34
        },
        "outputId": "0bd4c2b6-7a1a-4f11-e952-af3e4786379f"
      },
      "source": [
        "pred = model.predict(test_x_new)\n",
        "\n",
        "#print(pred)....working\n",
        "\n",
        "#print(test_y_new) \n",
        "\n",
        "i = 165\n",
        "\n",
        "\n",
        "\n",
        "\n",
        "\n",
        "print('predicted, labled' , pred[i] , test_y_new[i]) \n",
        "\n"
      ],
      "execution_count": null,
      "outputs": [
        {
          "output_type": "stream",
          "text": [
            "predicted, labled [0.00284829 0.99715173] 1.0\n"
          ],
          "name": "stdout"
        }
      ]
    },
    {
      "cell_type": "code",
      "metadata": {
        "id": "SBAsYbLiomSL"
      },
      "source": [
        ""
      ],
      "execution_count": null,
      "outputs": []
    }
  ]
}